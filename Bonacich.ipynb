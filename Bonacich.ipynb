{
 "cells": [
  {
   "cell_type": "code",
   "execution_count": 2,
   "metadata": {},
   "outputs": [],
   "source": [
    "import pandas as pd"
   ]
  },
  {
   "cell_type": "code",
   "execution_count": 3,
   "metadata": {},
   "outputs": [
    {
     "data": {
      "text/html": [
       "<div>\n",
       "<style scoped>\n",
       "    .dataframe tbody tr th:only-of-type {\n",
       "        vertical-align: middle;\n",
       "    }\n",
       "\n",
       "    .dataframe tbody tr th {\n",
       "        vertical-align: top;\n",
       "    }\n",
       "\n",
       "    .dataframe thead th {\n",
       "        text-align: right;\n",
       "    }\n",
       "</style>\n",
       "<table border=\"1\" class=\"dataframe\">\n",
       "  <thead>\n",
       "    <tr style=\"text-align: right;\">\n",
       "      <th></th>\n",
       "      <th>Unnamed: 0</th>\n",
       "      <th>District</th>\n",
       "      <th>Normalized_Rice_Production</th>\n",
       "    </tr>\n",
       "  </thead>\n",
       "  <tbody>\n",
       "    <tr>\n",
       "      <th>0</th>\n",
       "      <td>0</td>\n",
       "      <td>BENGALURU</td>\n",
       "      <td>0.006686</td>\n",
       "    </tr>\n",
       "    <tr>\n",
       "      <th>1</th>\n",
       "      <td>1</td>\n",
       "      <td>BENGALURU(R)</td>\n",
       "      <td>0.004609</td>\n",
       "    </tr>\n",
       "    <tr>\n",
       "      <th>2</th>\n",
       "      <td>2</td>\n",
       "      <td>RAMANAGARA</td>\n",
       "      <td>0.024465</td>\n",
       "    </tr>\n",
       "    <tr>\n",
       "      <th>3</th>\n",
       "      <td>3</td>\n",
       "      <td>CHITRADURGA</td>\n",
       "      <td>0.009103</td>\n",
       "    </tr>\n",
       "    <tr>\n",
       "      <th>4</th>\n",
       "      <td>4</td>\n",
       "      <td>DAVANAGERE</td>\n",
       "      <td>0.994237</td>\n",
       "    </tr>\n",
       "    <tr>\n",
       "      <th>5</th>\n",
       "      <td>5</td>\n",
       "      <td>KOLAR</td>\n",
       "      <td>0.001583</td>\n",
       "    </tr>\n",
       "    <tr>\n",
       "      <th>6</th>\n",
       "      <td>6</td>\n",
       "      <td>CHIKKABALLAPURA</td>\n",
       "      <td>0.005308</td>\n",
       "    </tr>\n",
       "    <tr>\n",
       "      <th>7</th>\n",
       "      <td>7</td>\n",
       "      <td>SHIVAMOGGA</td>\n",
       "      <td>0.781886</td>\n",
       "    </tr>\n",
       "    <tr>\n",
       "      <th>8</th>\n",
       "      <td>8</td>\n",
       "      <td>TUMAKURU</td>\n",
       "      <td>0.052731</td>\n",
       "    </tr>\n",
       "    <tr>\n",
       "      <th>9</th>\n",
       "      <td>9</td>\n",
       "      <td>CHIKKAMAGALURU</td>\n",
       "      <td>0.224371</td>\n",
       "    </tr>\n",
       "    <tr>\n",
       "      <th>10</th>\n",
       "      <td>10</td>\n",
       "      <td>DAKSHINA KANNADA</td>\n",
       "      <td>0.269174</td>\n",
       "    </tr>\n",
       "    <tr>\n",
       "      <th>11</th>\n",
       "      <td>11</td>\n",
       "      <td>UDUPI</td>\n",
       "      <td>0.280486</td>\n",
       "    </tr>\n",
       "    <tr>\n",
       "      <th>12</th>\n",
       "      <td>12</td>\n",
       "      <td>HASSAN</td>\n",
       "      <td>0.291758</td>\n",
       "    </tr>\n",
       "    <tr>\n",
       "      <th>13</th>\n",
       "      <td>13</td>\n",
       "      <td>KODAGU</td>\n",
       "      <td>0.175148</td>\n",
       "    </tr>\n",
       "    <tr>\n",
       "      <th>14</th>\n",
       "      <td>14</td>\n",
       "      <td>MANDYA</td>\n",
       "      <td>0.500669</td>\n",
       "    </tr>\n",
       "    <tr>\n",
       "      <th>15</th>\n",
       "      <td>15</td>\n",
       "      <td>MYSURU</td>\n",
       "      <td>0.719425</td>\n",
       "    </tr>\n",
       "    <tr>\n",
       "      <th>16</th>\n",
       "      <td>16</td>\n",
       "      <td>CHAMARAJANAGAR</td>\n",
       "      <td>0.092982</td>\n",
       "    </tr>\n",
       "    <tr>\n",
       "      <th>17</th>\n",
       "      <td>17</td>\n",
       "      <td>BELAGAVI</td>\n",
       "      <td>0.360517</td>\n",
       "    </tr>\n",
       "    <tr>\n",
       "      <th>18</th>\n",
       "      <td>18</td>\n",
       "      <td>VIJAYAPURA</td>\n",
       "      <td>0.000173</td>\n",
       "    </tr>\n",
       "    <tr>\n",
       "      <th>19</th>\n",
       "      <td>19</td>\n",
       "      <td>BAGALKOT</td>\n",
       "      <td>0.000000</td>\n",
       "    </tr>\n",
       "    <tr>\n",
       "      <th>20</th>\n",
       "      <td>20</td>\n",
       "      <td>DHARAWAD</td>\n",
       "      <td>0.068875</td>\n",
       "    </tr>\n",
       "    <tr>\n",
       "      <th>21</th>\n",
       "      <td>21</td>\n",
       "      <td>GADAG</td>\n",
       "      <td>0.014572</td>\n",
       "    </tr>\n",
       "    <tr>\n",
       "      <th>22</th>\n",
       "      <td>22</td>\n",
       "      <td>HAVERI</td>\n",
       "      <td>0.254617</td>\n",
       "    </tr>\n",
       "    <tr>\n",
       "      <th>23</th>\n",
       "      <td>23</td>\n",
       "      <td>UTTARA KANNADA</td>\n",
       "      <td>0.310602</td>\n",
       "    </tr>\n",
       "    <tr>\n",
       "      <th>24</th>\n",
       "      <td>24</td>\n",
       "      <td>BALLARI</td>\n",
       "      <td>0.418544</td>\n",
       "    </tr>\n",
       "    <tr>\n",
       "      <th>25</th>\n",
       "      <td>25</td>\n",
       "      <td>BIDAR</td>\n",
       "      <td>0.003963</td>\n",
       "    </tr>\n",
       "    <tr>\n",
       "      <th>26</th>\n",
       "      <td>26</td>\n",
       "      <td>KALABURAGI</td>\n",
       "      <td>0.015851</td>\n",
       "    </tr>\n",
       "    <tr>\n",
       "      <th>27</th>\n",
       "      <td>27</td>\n",
       "      <td>YADGIRI</td>\n",
       "      <td>0.456213</td>\n",
       "    </tr>\n",
       "    <tr>\n",
       "      <th>28</th>\n",
       "      <td>28</td>\n",
       "      <td>RAICHUR</td>\n",
       "      <td>1.000000</td>\n",
       "    </tr>\n",
       "    <tr>\n",
       "      <th>29</th>\n",
       "      <td>29</td>\n",
       "      <td>KOPPAL</td>\n",
       "      <td>0.494498</td>\n",
       "    </tr>\n",
       "    <tr>\n",
       "      <th>30</th>\n",
       "      <td>30</td>\n",
       "      <td>Vijayanagara</td>\n",
       "      <td>0.418544</td>\n",
       "    </tr>\n",
       "  </tbody>\n",
       "</table>\n",
       "</div>"
      ],
      "text/plain": [
       "    Unnamed: 0          District  Normalized_Rice_Production\n",
       "0            0         BENGALURU                    0.006686\n",
       "1            1      BENGALURU(R)                    0.004609\n",
       "2            2        RAMANAGARA                    0.024465\n",
       "3            3       CHITRADURGA                    0.009103\n",
       "4            4        DAVANAGERE                    0.994237\n",
       "5            5             KOLAR                    0.001583\n",
       "6            6   CHIKKABALLAPURA                    0.005308\n",
       "7            7        SHIVAMOGGA                    0.781886\n",
       "8            8          TUMAKURU                    0.052731\n",
       "9            9    CHIKKAMAGALURU                    0.224371\n",
       "10          10  DAKSHINA KANNADA                    0.269174\n",
       "11          11             UDUPI                    0.280486\n",
       "12          12            HASSAN                    0.291758\n",
       "13          13            KODAGU                    0.175148\n",
       "14          14            MANDYA                    0.500669\n",
       "15          15            MYSURU                    0.719425\n",
       "16          16    CHAMARAJANAGAR                    0.092982\n",
       "17          17          BELAGAVI                    0.360517\n",
       "18          18        VIJAYAPURA                    0.000173\n",
       "19          19          BAGALKOT                    0.000000\n",
       "20          20          DHARAWAD                    0.068875\n",
       "21          21             GADAG                    0.014572\n",
       "22          22            HAVERI                    0.254617\n",
       "23          23    UTTARA KANNADA                    0.310602\n",
       "24          24           BALLARI                    0.418544\n",
       "25          25             BIDAR                    0.003963\n",
       "26          26        KALABURAGI                    0.015851\n",
       "27          27           YADGIRI                    0.456213\n",
       "28          28           RAICHUR                    1.000000\n",
       "29          29            KOPPAL                    0.494498\n",
       "30          30      Vijayanagara                    0.418544"
      ]
     },
     "execution_count": 3,
     "metadata": {},
     "output_type": "execute_result"
    }
   ],
   "source": [
    "Capabilty = pd.read_csv('D:\\IIIT-B\\WSL_PSS\\Normal_Rice.csv')\n",
    "Capabilty"
   ]
  },
  {
   "cell_type": "code",
   "execution_count": 8,
   "metadata": {},
   "outputs": [
    {
     "data": {
      "text/html": [
       "<div>\n",
       "<style scoped>\n",
       "    .dataframe tbody tr th:only-of-type {\n",
       "        vertical-align: middle;\n",
       "    }\n",
       "\n",
       "    .dataframe tbody tr th {\n",
       "        vertical-align: top;\n",
       "    }\n",
       "\n",
       "    .dataframe thead th {\n",
       "        text-align: right;\n",
       "    }\n",
       "</style>\n",
       "<table border=\"1\" class=\"dataframe\">\n",
       "  <thead>\n",
       "    <tr style=\"text-align: right;\">\n",
       "      <th></th>\n",
       "      <th>District</th>\n",
       "      <th>Normalized_Rice_Production</th>\n",
       "      <th>Abbreviation</th>\n",
       "    </tr>\n",
       "  </thead>\n",
       "  <tbody>\n",
       "    <tr>\n",
       "      <th>0</th>\n",
       "      <td>BENGALURU</td>\n",
       "      <td>0.006686</td>\n",
       "      <td>BLR</td>\n",
       "    </tr>\n",
       "    <tr>\n",
       "      <th>1</th>\n",
       "      <td>BENGALURU(R)</td>\n",
       "      <td>0.004609</td>\n",
       "      <td>BLR(R)</td>\n",
       "    </tr>\n",
       "    <tr>\n",
       "      <th>2</th>\n",
       "      <td>RAMANAGARA</td>\n",
       "      <td>0.024465</td>\n",
       "      <td>RGA</td>\n",
       "    </tr>\n",
       "    <tr>\n",
       "      <th>3</th>\n",
       "      <td>CHITRADURGA</td>\n",
       "      <td>0.009103</td>\n",
       "      <td>CDA</td>\n",
       "    </tr>\n",
       "    <tr>\n",
       "      <th>4</th>\n",
       "      <td>DAVANAGERE</td>\n",
       "      <td>0.994237</td>\n",
       "      <td>DVG</td>\n",
       "    </tr>\n",
       "    <tr>\n",
       "      <th>5</th>\n",
       "      <td>KOLAR</td>\n",
       "      <td>0.001583</td>\n",
       "      <td>KLR</td>\n",
       "    </tr>\n",
       "    <tr>\n",
       "      <th>6</th>\n",
       "      <td>CHIKKABALLAPURA</td>\n",
       "      <td>0.005308</td>\n",
       "      <td>CKA</td>\n",
       "    </tr>\n",
       "    <tr>\n",
       "      <th>7</th>\n",
       "      <td>SHIVAMOGGA</td>\n",
       "      <td>0.781886</td>\n",
       "      <td>SMG</td>\n",
       "    </tr>\n",
       "    <tr>\n",
       "      <th>8</th>\n",
       "      <td>TUMAKURU</td>\n",
       "      <td>0.052731</td>\n",
       "      <td>TKR</td>\n",
       "    </tr>\n",
       "    <tr>\n",
       "      <th>9</th>\n",
       "      <td>CHIKKAMAGALURU</td>\n",
       "      <td>0.224371</td>\n",
       "      <td>CMG</td>\n",
       "    </tr>\n",
       "    <tr>\n",
       "      <th>10</th>\n",
       "      <td>DAKSHINA KANNADA</td>\n",
       "      <td>0.269174</td>\n",
       "      <td>DKA</td>\n",
       "    </tr>\n",
       "    <tr>\n",
       "      <th>11</th>\n",
       "      <td>UDUPI</td>\n",
       "      <td>0.280486</td>\n",
       "      <td>UPI</td>\n",
       "    </tr>\n",
       "    <tr>\n",
       "      <th>12</th>\n",
       "      <td>HASSAN</td>\n",
       "      <td>0.291758</td>\n",
       "      <td>HSN</td>\n",
       "    </tr>\n",
       "    <tr>\n",
       "      <th>13</th>\n",
       "      <td>KODAGU</td>\n",
       "      <td>0.175148</td>\n",
       "      <td>KDG</td>\n",
       "    </tr>\n",
       "    <tr>\n",
       "      <th>14</th>\n",
       "      <td>MANDYA</td>\n",
       "      <td>0.500669</td>\n",
       "      <td>MDY</td>\n",
       "    </tr>\n",
       "    <tr>\n",
       "      <th>15</th>\n",
       "      <td>MYSURU</td>\n",
       "      <td>0.719425</td>\n",
       "      <td>MYS</td>\n",
       "    </tr>\n",
       "    <tr>\n",
       "      <th>16</th>\n",
       "      <td>CHAMARAJANAGAR</td>\n",
       "      <td>0.092982</td>\n",
       "      <td>CNR</td>\n",
       "    </tr>\n",
       "    <tr>\n",
       "      <th>17</th>\n",
       "      <td>BELAGAVI</td>\n",
       "      <td>0.360517</td>\n",
       "      <td>BLG</td>\n",
       "    </tr>\n",
       "    <tr>\n",
       "      <th>18</th>\n",
       "      <td>VIJAYAPURA</td>\n",
       "      <td>0.000173</td>\n",
       "      <td>VJP</td>\n",
       "    </tr>\n",
       "    <tr>\n",
       "      <th>19</th>\n",
       "      <td>BAGALKOT</td>\n",
       "      <td>0.000000</td>\n",
       "      <td>BKT</td>\n",
       "    </tr>\n",
       "    <tr>\n",
       "      <th>20</th>\n",
       "      <td>DHARAWAD</td>\n",
       "      <td>0.068875</td>\n",
       "      <td>DWD</td>\n",
       "    </tr>\n",
       "    <tr>\n",
       "      <th>21</th>\n",
       "      <td>GADAG</td>\n",
       "      <td>0.014572</td>\n",
       "      <td>GDG</td>\n",
       "    </tr>\n",
       "    <tr>\n",
       "      <th>22</th>\n",
       "      <td>HAVERI</td>\n",
       "      <td>0.254617</td>\n",
       "      <td>HVR</td>\n",
       "    </tr>\n",
       "    <tr>\n",
       "      <th>23</th>\n",
       "      <td>UTTARA KANNADA</td>\n",
       "      <td>0.310602</td>\n",
       "      <td>UTK</td>\n",
       "    </tr>\n",
       "    <tr>\n",
       "      <th>24</th>\n",
       "      <td>BALLARI</td>\n",
       "      <td>0.418544</td>\n",
       "      <td>BLL</td>\n",
       "    </tr>\n",
       "    <tr>\n",
       "      <th>25</th>\n",
       "      <td>BIDAR</td>\n",
       "      <td>0.003963</td>\n",
       "      <td>BDR</td>\n",
       "    </tr>\n",
       "    <tr>\n",
       "      <th>26</th>\n",
       "      <td>KALABURAGI</td>\n",
       "      <td>0.015851</td>\n",
       "      <td>KLB</td>\n",
       "    </tr>\n",
       "    <tr>\n",
       "      <th>27</th>\n",
       "      <td>YADGIRI</td>\n",
       "      <td>0.456213</td>\n",
       "      <td>YDR</td>\n",
       "    </tr>\n",
       "    <tr>\n",
       "      <th>28</th>\n",
       "      <td>RAICHUR</td>\n",
       "      <td>1.000000</td>\n",
       "      <td>RCR</td>\n",
       "    </tr>\n",
       "    <tr>\n",
       "      <th>29</th>\n",
       "      <td>KOPPAL</td>\n",
       "      <td>0.494498</td>\n",
       "      <td>KPL</td>\n",
       "    </tr>\n",
       "  </tbody>\n",
       "</table>\n",
       "</div>"
      ],
      "text/plain": [
       "            District  Normalized_Rice_Production Abbreviation\n",
       "0          BENGALURU                    0.006686          BLR\n",
       "1       BENGALURU(R)                    0.004609       BLR(R)\n",
       "2         RAMANAGARA                    0.024465          RGA\n",
       "3        CHITRADURGA                    0.009103          CDA\n",
       "4         DAVANAGERE                    0.994237          DVG\n",
       "5              KOLAR                    0.001583          KLR\n",
       "6    CHIKKABALLAPURA                    0.005308          CKA\n",
       "7         SHIVAMOGGA                    0.781886          SMG\n",
       "8           TUMAKURU                    0.052731          TKR\n",
       "9     CHIKKAMAGALURU                    0.224371          CMG\n",
       "10  DAKSHINA KANNADA                    0.269174          DKA\n",
       "11             UDUPI                    0.280486          UPI\n",
       "12            HASSAN                    0.291758          HSN\n",
       "13            KODAGU                    0.175148          KDG\n",
       "14            MANDYA                    0.500669          MDY\n",
       "15            MYSURU                    0.719425          MYS\n",
       "16    CHAMARAJANAGAR                    0.092982          CNR\n",
       "17          BELAGAVI                    0.360517          BLG\n",
       "18        VIJAYAPURA                    0.000173          VJP\n",
       "19          BAGALKOT                    0.000000          BKT\n",
       "20          DHARAWAD                    0.068875          DWD\n",
       "21             GADAG                    0.014572          GDG\n",
       "22            HAVERI                    0.254617          HVR\n",
       "23    UTTARA KANNADA                    0.310602          UTK\n",
       "24           BALLARI                    0.418544          BLL\n",
       "25             BIDAR                    0.003963          BDR\n",
       "26        KALABURAGI                    0.015851          KLB\n",
       "27           YADGIRI                    0.456213          YDR\n",
       "28           RAICHUR                    1.000000          RCR\n",
       "29            KOPPAL                    0.494498          KPL"
      ]
     },
     "execution_count": 8,
     "metadata": {},
     "output_type": "execute_result"
    }
   ],
   "source": [
    "# Capabilty.drop(Capabilty.columns[[0]], axis=1, inplace=True)\n",
    "Capabilty.drop(30,axis=0,inplace=True)\n",
    "Capabilty\n"
   ]
  },
  {
   "cell_type": "code",
   "execution_count": 9,
   "metadata": {},
   "outputs": [
    {
     "name": "stdout",
     "output_type": "stream",
     "text": [
      "    1   2   3   4   5   6   7   8   9   10  ...  21  22  23  24  25  26  27  \\\n",
      "1    0   1   1   0   0   0   0   0   0   0  ...   0   0   0   0   0   0   0   \n",
      "2    1   0   1   0   0   1   1   0   1   0  ...   0   0   0   0   0   0   0   \n",
      "3    1   1   0   0   0   0   0   0   1   0  ...   0   0   0   0   0   0   0   \n",
      "4    0   0   0   0   1   0   0   0   1   1  ...   0   0   0   0   1   0   0   \n",
      "5    0   0   0   1   0   0   0   1   0   1  ...   0   0   1   0   1   0   0   \n",
      "6    0   1   0   0   0   0   1   0   0   0  ...   0   0   0   0   0   0   0   \n",
      "7    0   1   0   0   0   1   0   0   1   0  ...   0   0   0   0   0   0   0   \n",
      "8    0   0   0   0   1   0   0   0   0   1  ...   0   0   1   1   0   0   0   \n",
      "9    0   1   1   1   0   0   1   0   0   1  ...   0   0   0   0   0   0   0   \n",
      "10   0   0   0   1   1   0   0   1   1   0  ...   0   0   0   0   0   0   0   \n",
      "11   0   0   0   0   0   0   0   0   0   1  ...   0   0   0   0   0   0   0   \n",
      "12   0   0   0   0   0   0   0   1   0   1  ...   0   0   0   1   0   0   0   \n",
      "13   0   0   0   0   0   0   0   0   1   1  ...   0   0   0   0   0   0   0   \n",
      "14   0   0   0   0   0   0   0   0   0   0  ...   0   0   0   0   0   0   0   \n",
      "15   0   0   1   0   0   0   0   0   1   0  ...   0   0   0   0   0   0   0   \n",
      "16   0   0   0   0   0   0   0   0   0   0  ...   0   0   0   0   0   0   0   \n",
      "17   0   0   1   0   0   0   0   0   0   0  ...   0   0   0   0   0   0   0   \n",
      "18   0   0   0   0   0   0   0   0   0   0  ...   1   1   0   1   0   0   0   \n",
      "19   0   0   0   0   0   0   0   0   0   0  ...   0   0   0   0   0   0   1   \n",
      "20   0   0   0   0   0   0   0   0   0   0  ...   0   1   0   0   0   0   0   \n",
      "21   0   0   0   0   0   0   0   0   0   0  ...   0   1   1   1   0   0   0   \n",
      "22   0   0   0   0   0   0   0   0   0   0  ...   1   0   1   0   1   0   0   \n",
      "23   0   0   0   0   1   0   0   1   0   0  ...   1   1   0   1   1   0   0   \n",
      "24   0   0   0   0   0   0   0   1   0   0  ...   1   0   1   0   0   0   0   \n",
      "25   0   0   0   1   1   0   0   0   0   0  ...   0   1   1   0   0   0   0   \n",
      "26   0   0   0   0   0   0   0   0   0   0  ...   0   0   0   0   0   0   1   \n",
      "27   0   0   0   0   0   0   0   0   0   0  ...   0   0   0   0   0   1   0   \n",
      "28   0   0   0   0   0   0   0   0   0   0  ...   0   0   0   0   0   0   1   \n",
      "29   0   0   0   0   0   0   0   0   0   0  ...   0   0   0   0   1   0   0   \n",
      "30   0   0   0   0   0   0   0   0   0   0  ...   0   1   0   0   1   0   0   \n",
      "\n",
      "    28  29  30  \n",
      "1    0   0   0  \n",
      "2    0   0   0  \n",
      "3    0   0   0  \n",
      "4    0   0   0  \n",
      "5    0   0   0  \n",
      "6    0   0   0  \n",
      "7    0   0   0  \n",
      "8    0   0   0  \n",
      "9    0   0   0  \n",
      "10   0   0   0  \n",
      "11   0   0   0  \n",
      "12   0   0   0  \n",
      "13   0   0   0  \n",
      "14   0   0   0  \n",
      "15   0   0   0  \n",
      "16   0   0   0  \n",
      "17   0   0   0  \n",
      "18   0   0   0  \n",
      "19   1   1   0  \n",
      "20   0   1   1  \n",
      "21   0   0   0  \n",
      "22   0   0   1  \n",
      "23   0   0   0  \n",
      "24   0   0   0  \n",
      "25   0   1   1  \n",
      "26   0   0   0  \n",
      "27   1   0   0  \n",
      "28   0   1   0  \n",
      "29   1   0   1  \n",
      "30   0   1   0  \n",
      "\n",
      "[30 rows x 30 columns]\n"
     ]
    }
   ],
   "source": [
    "import pandas as pd\n",
    "import numpy as np\n",
    "\n",
    "adjacency_excel = pd.read_excel('D:\\IIIT-B\\WSL_PSS\\Karnataka_District_Adjacency_File - Copy.xlsx')\n",
    "\n",
    "district_codes = sorted(set(adjacency_excel['District_Code']))\n",
    "\n",
    "n = len(district_codes)\n",
    "adj_matrix = np.zeros((n, n), dtype=int)\n",
    "\n",
    "code_to_index = {code: idx for idx, code in enumerate(district_codes)}\n",
    "\n",
    "for i in range(len(adjacency_excel)):\n",
    "    district_code = adjacency_excel['District_Code'][i]\n",
    "    neighbors = [int(num) for num in str(adjacency_excel['District_Neighbors'][i]).split(',') if num.strip().isdigit()]\n",
    "    \n",
    "    for neighbor in neighbors:\n",
    "        adj_matrix[code_to_index[district_code]][code_to_index[neighbor]] = 1\n",
    "        adj_matrix[code_to_index[neighbor]][code_to_index[district_code]] = 1  # Assuming adjacency is bidirectional\n",
    "\n",
    "adj_matrix_df = pd.DataFrame(adj_matrix, index=district_codes, columns=district_codes)\n",
    "\n",
    "print(adj_matrix_df)\n"
   ]
  },
  {
   "cell_type": "code",
   "execution_count": 10,
   "metadata": {},
   "outputs": [
    {
     "name": "stdout",
     "output_type": "stream",
     "text": [
      "[0.5211743883873909, -1.3075373476687915, -0.465886612347843, 0.4407488900061796, 7.678440271019136, 0.6406286894983906, -1.5491542311409763, 2.1994476826496734, 5.33162585085177, -8.30595171272978, 5.983446317174897, 0.9201698374878075, -1.9561639018188048, -3.8092454881619844, -0.8600717401088008, 4.482615069531931, -2.523258415549207, 7.8648786752005915, -6.295131780044054, -7.032919858273706, -2.019027660965216, 3.177623866818399, -1.1499851329885928, -3.432270235068202, -8.395590336419973, -1.130287941035937, 3.678026293296623, -2.1476168372369138, 9.751745310524594, 1.4009494755785257]\n"
     ]
    }
   ],
   "source": [
    "import numpy as np\n",
    "\n",
    "def bonacich_bargain_centrality(districts, capabilities, adjacency_matrix):\n",
    "    adjacency_matrix = np.array(adjacency_matrix)\n",
    "    \n",
    "    eigenvalues, _ = np.linalg.eig(adjacency_matrix)\n",
    "    largest_eigenvalue = max(eigenvalues)\n",
    "    \n",
    "    beta = 1 / largest_eigenvalue\n",
    "    \n",
    "    b = np.array(capabilities, dtype=float)\n",
    "    \n",
    "    n = len(districts)\n",
    "    \n",
    "    \n",
    "    for rec in range(0,10):\n",
    "        b_old = b.copy()\n",
    "            \n",
    "        for i in range(n):\n",
    "            sum_term = sum(adjacency_matrix[i, j] * b_old[j] for j in range(n) if i != j)\n",
    "            b[i] = b_old[i] - beta * sum_term\n",
    "            \n",
    "        \n",
    "        \n",
    "    return b.tolist()\n",
    "\n",
    "result = bonacich_bargain_centrality(Capabilty['District'], Capabilty['Normalized_Rice_Production'], adj_matrix_df)\n",
    "print(result)\n"
   ]
  },
  {
   "cell_type": "code",
   "execution_count": 68,
   "metadata": {},
   "outputs": [
    {
     "name": "stdout",
     "output_type": "stream",
     "text": [
      "Minimum value in the list: -8.395590336419973, at index: 24\n",
      "Second minimum value: -8.30595171272978, at index: 9\n",
      "Third minimum value: -7.032919858273706, at index: 19\n"
     ]
    }
   ],
   "source": [
    "min_value = min(result)\n",
    "\n",
    "min_index = result.index(min_value)\n",
    "\n",
    "print(f\"Minimum value in the list: {min_value}, at index: {min_index}\")\n",
    "\n",
    "sorted_list = sorted(result)\n",
    "\n",
    "# Second minimum value and its index\n",
    "second_min_value = sorted_list[1]\n",
    "second_min_index = result.index(second_min_value)\n",
    "\n",
    "# Third minimum value and its index\n",
    "third_min_value = sorted_list[2]\n",
    "third_min_index = result.index(third_min_value)\n",
    "\n",
    "# Print results\n",
    "print(f\"Second minimum value: {second_min_value}, at index: {second_min_index}\")\n",
    "print(f\"Third minimum value: {third_min_value}, at index: {third_min_index}\")"
   ]
  },
  {
   "cell_type": "code",
   "execution_count": 11,
   "metadata": {},
   "outputs": [
    {
     "data": {
      "text/html": [
       "<div>\n",
       "<style scoped>\n",
       "    .dataframe tbody tr th:only-of-type {\n",
       "        vertical-align: middle;\n",
       "    }\n",
       "\n",
       "    .dataframe tbody tr th {\n",
       "        vertical-align: top;\n",
       "    }\n",
       "\n",
       "    .dataframe thead th {\n",
       "        text-align: right;\n",
       "    }\n",
       "</style>\n",
       "<table border=\"1\" class=\"dataframe\">\n",
       "  <thead>\n",
       "    <tr style=\"text-align: right;\">\n",
       "      <th></th>\n",
       "      <th>District</th>\n",
       "      <th>Normalized_Rice_Production</th>\n",
       "      <th>Abbreviation</th>\n",
       "      <th>Bonacich</th>\n",
       "    </tr>\n",
       "  </thead>\n",
       "  <tbody>\n",
       "    <tr>\n",
       "      <th>0</th>\n",
       "      <td>BENGALURU</td>\n",
       "      <td>0.006686</td>\n",
       "      <td>BLR</td>\n",
       "      <td>0.521174</td>\n",
       "    </tr>\n",
       "    <tr>\n",
       "      <th>1</th>\n",
       "      <td>BENGALURU(R)</td>\n",
       "      <td>0.004609</td>\n",
       "      <td>BLR(R)</td>\n",
       "      <td>-1.307537</td>\n",
       "    </tr>\n",
       "    <tr>\n",
       "      <th>2</th>\n",
       "      <td>RAMANAGARA</td>\n",
       "      <td>0.024465</td>\n",
       "      <td>RGA</td>\n",
       "      <td>-0.465887</td>\n",
       "    </tr>\n",
       "    <tr>\n",
       "      <th>3</th>\n",
       "      <td>CHITRADURGA</td>\n",
       "      <td>0.009103</td>\n",
       "      <td>CDA</td>\n",
       "      <td>0.440749</td>\n",
       "    </tr>\n",
       "    <tr>\n",
       "      <th>4</th>\n",
       "      <td>DAVANAGERE</td>\n",
       "      <td>0.994237</td>\n",
       "      <td>DVG</td>\n",
       "      <td>7.678440</td>\n",
       "    </tr>\n",
       "    <tr>\n",
       "      <th>5</th>\n",
       "      <td>KOLAR</td>\n",
       "      <td>0.001583</td>\n",
       "      <td>KLR</td>\n",
       "      <td>0.640629</td>\n",
       "    </tr>\n",
       "    <tr>\n",
       "      <th>6</th>\n",
       "      <td>CHIKKABALLAPURA</td>\n",
       "      <td>0.005308</td>\n",
       "      <td>CKA</td>\n",
       "      <td>-1.549154</td>\n",
       "    </tr>\n",
       "    <tr>\n",
       "      <th>7</th>\n",
       "      <td>SHIVAMOGGA</td>\n",
       "      <td>0.781886</td>\n",
       "      <td>SMG</td>\n",
       "      <td>2.199448</td>\n",
       "    </tr>\n",
       "    <tr>\n",
       "      <th>8</th>\n",
       "      <td>TUMAKURU</td>\n",
       "      <td>0.052731</td>\n",
       "      <td>TKR</td>\n",
       "      <td>5.331626</td>\n",
       "    </tr>\n",
       "    <tr>\n",
       "      <th>9</th>\n",
       "      <td>CHIKKAMAGALURU</td>\n",
       "      <td>0.224371</td>\n",
       "      <td>CMG</td>\n",
       "      <td>-8.305952</td>\n",
       "    </tr>\n",
       "    <tr>\n",
       "      <th>10</th>\n",
       "      <td>DAKSHINA KANNADA</td>\n",
       "      <td>0.269174</td>\n",
       "      <td>DKA</td>\n",
       "      <td>5.983446</td>\n",
       "    </tr>\n",
       "    <tr>\n",
       "      <th>11</th>\n",
       "      <td>UDUPI</td>\n",
       "      <td>0.280486</td>\n",
       "      <td>UPI</td>\n",
       "      <td>0.920170</td>\n",
       "    </tr>\n",
       "    <tr>\n",
       "      <th>12</th>\n",
       "      <td>HASSAN</td>\n",
       "      <td>0.291758</td>\n",
       "      <td>HSN</td>\n",
       "      <td>-1.956164</td>\n",
       "    </tr>\n",
       "    <tr>\n",
       "      <th>13</th>\n",
       "      <td>KODAGU</td>\n",
       "      <td>0.175148</td>\n",
       "      <td>KDG</td>\n",
       "      <td>-3.809245</td>\n",
       "    </tr>\n",
       "    <tr>\n",
       "      <th>14</th>\n",
       "      <td>MANDYA</td>\n",
       "      <td>0.500669</td>\n",
       "      <td>MDY</td>\n",
       "      <td>-0.860072</td>\n",
       "    </tr>\n",
       "    <tr>\n",
       "      <th>15</th>\n",
       "      <td>MYSURU</td>\n",
       "      <td>0.719425</td>\n",
       "      <td>MYS</td>\n",
       "      <td>4.482615</td>\n",
       "    </tr>\n",
       "    <tr>\n",
       "      <th>16</th>\n",
       "      <td>CHAMARAJANAGAR</td>\n",
       "      <td>0.092982</td>\n",
       "      <td>CNR</td>\n",
       "      <td>-2.523258</td>\n",
       "    </tr>\n",
       "    <tr>\n",
       "      <th>17</th>\n",
       "      <td>BELAGAVI</td>\n",
       "      <td>0.360517</td>\n",
       "      <td>BLG</td>\n",
       "      <td>7.864879</td>\n",
       "    </tr>\n",
       "    <tr>\n",
       "      <th>18</th>\n",
       "      <td>VIJAYAPURA</td>\n",
       "      <td>0.000173</td>\n",
       "      <td>VJP</td>\n",
       "      <td>-6.295132</td>\n",
       "    </tr>\n",
       "    <tr>\n",
       "      <th>19</th>\n",
       "      <td>BAGALKOT</td>\n",
       "      <td>0.000000</td>\n",
       "      <td>BKT</td>\n",
       "      <td>-7.032920</td>\n",
       "    </tr>\n",
       "    <tr>\n",
       "      <th>20</th>\n",
       "      <td>DHARAWAD</td>\n",
       "      <td>0.068875</td>\n",
       "      <td>DWD</td>\n",
       "      <td>-2.019028</td>\n",
       "    </tr>\n",
       "    <tr>\n",
       "      <th>21</th>\n",
       "      <td>GADAG</td>\n",
       "      <td>0.014572</td>\n",
       "      <td>GDG</td>\n",
       "      <td>3.177624</td>\n",
       "    </tr>\n",
       "    <tr>\n",
       "      <th>22</th>\n",
       "      <td>HAVERI</td>\n",
       "      <td>0.254617</td>\n",
       "      <td>HVR</td>\n",
       "      <td>-1.149985</td>\n",
       "    </tr>\n",
       "    <tr>\n",
       "      <th>23</th>\n",
       "      <td>UTTARA KANNADA</td>\n",
       "      <td>0.310602</td>\n",
       "      <td>UTK</td>\n",
       "      <td>-3.432270</td>\n",
       "    </tr>\n",
       "    <tr>\n",
       "      <th>24</th>\n",
       "      <td>BALLARI</td>\n",
       "      <td>0.418544</td>\n",
       "      <td>BLL</td>\n",
       "      <td>-8.395590</td>\n",
       "    </tr>\n",
       "    <tr>\n",
       "      <th>25</th>\n",
       "      <td>BIDAR</td>\n",
       "      <td>0.003963</td>\n",
       "      <td>BDR</td>\n",
       "      <td>-1.130288</td>\n",
       "    </tr>\n",
       "    <tr>\n",
       "      <th>26</th>\n",
       "      <td>KALABURAGI</td>\n",
       "      <td>0.015851</td>\n",
       "      <td>KLB</td>\n",
       "      <td>3.678026</td>\n",
       "    </tr>\n",
       "    <tr>\n",
       "      <th>27</th>\n",
       "      <td>YADGIRI</td>\n",
       "      <td>0.456213</td>\n",
       "      <td>YDR</td>\n",
       "      <td>-2.147617</td>\n",
       "    </tr>\n",
       "    <tr>\n",
       "      <th>28</th>\n",
       "      <td>RAICHUR</td>\n",
       "      <td>1.000000</td>\n",
       "      <td>RCR</td>\n",
       "      <td>9.751745</td>\n",
       "    </tr>\n",
       "    <tr>\n",
       "      <th>29</th>\n",
       "      <td>KOPPAL</td>\n",
       "      <td>0.494498</td>\n",
       "      <td>KPL</td>\n",
       "      <td>1.400949</td>\n",
       "    </tr>\n",
       "  </tbody>\n",
       "</table>\n",
       "</div>"
      ],
      "text/plain": [
       "            District  Normalized_Rice_Production Abbreviation  Bonacich\n",
       "0          BENGALURU                    0.006686          BLR  0.521174\n",
       "1       BENGALURU(R)                    0.004609       BLR(R) -1.307537\n",
       "2         RAMANAGARA                    0.024465          RGA -0.465887\n",
       "3        CHITRADURGA                    0.009103          CDA  0.440749\n",
       "4         DAVANAGERE                    0.994237          DVG  7.678440\n",
       "5              KOLAR                    0.001583          KLR  0.640629\n",
       "6    CHIKKABALLAPURA                    0.005308          CKA -1.549154\n",
       "7         SHIVAMOGGA                    0.781886          SMG  2.199448\n",
       "8           TUMAKURU                    0.052731          TKR  5.331626\n",
       "9     CHIKKAMAGALURU                    0.224371          CMG -8.305952\n",
       "10  DAKSHINA KANNADA                    0.269174          DKA  5.983446\n",
       "11             UDUPI                    0.280486          UPI  0.920170\n",
       "12            HASSAN                    0.291758          HSN -1.956164\n",
       "13            KODAGU                    0.175148          KDG -3.809245\n",
       "14            MANDYA                    0.500669          MDY -0.860072\n",
       "15            MYSURU                    0.719425          MYS  4.482615\n",
       "16    CHAMARAJANAGAR                    0.092982          CNR -2.523258\n",
       "17          BELAGAVI                    0.360517          BLG  7.864879\n",
       "18        VIJAYAPURA                    0.000173          VJP -6.295132\n",
       "19          BAGALKOT                    0.000000          BKT -7.032920\n",
       "20          DHARAWAD                    0.068875          DWD -2.019028\n",
       "21             GADAG                    0.014572          GDG  3.177624\n",
       "22            HAVERI                    0.254617          HVR -1.149985\n",
       "23    UTTARA KANNADA                    0.310602          UTK -3.432270\n",
       "24           BALLARI                    0.418544          BLL -8.395590\n",
       "25             BIDAR                    0.003963          BDR -1.130288\n",
       "26        KALABURAGI                    0.015851          KLB  3.678026\n",
       "27           YADGIRI                    0.456213          YDR -2.147617\n",
       "28           RAICHUR                    1.000000          RCR  9.751745\n",
       "29            KOPPAL                    0.494498          KPL  1.400949"
      ]
     },
     "execution_count": 11,
     "metadata": {},
     "output_type": "execute_result"
    }
   ],
   "source": [
    "Capabilty['Bonacich'] = result\n",
    "Capabilty"
   ]
  },
  {
   "cell_type": "code",
   "execution_count": 12,
   "metadata": {},
   "outputs": [
    {
     "data": {
      "text/html": [
       "<div>\n",
       "<style scoped>\n",
       "    .dataframe tbody tr th:only-of-type {\n",
       "        vertical-align: middle;\n",
       "    }\n",
       "\n",
       "    .dataframe tbody tr th {\n",
       "        vertical-align: top;\n",
       "    }\n",
       "\n",
       "    .dataframe thead th {\n",
       "        text-align: right;\n",
       "    }\n",
       "</style>\n",
       "<table border=\"1\" class=\"dataframe\">\n",
       "  <thead>\n",
       "    <tr style=\"text-align: right;\">\n",
       "      <th></th>\n",
       "      <th>District</th>\n",
       "      <th>Normalized_Rice_Production</th>\n",
       "      <th>Abbreviation</th>\n",
       "      <th>Bonacich</th>\n",
       "    </tr>\n",
       "  </thead>\n",
       "  <tbody>\n",
       "    <tr>\n",
       "      <th>0</th>\n",
       "      <td>BENGALURU</td>\n",
       "      <td>0.006686</td>\n",
       "      <td>BLR</td>\n",
       "      <td>0.521174</td>\n",
       "    </tr>\n",
       "    <tr>\n",
       "      <th>1</th>\n",
       "      <td>BENGALURU(R)</td>\n",
       "      <td>0.004609</td>\n",
       "      <td>BLR(R)</td>\n",
       "      <td>-1.307537</td>\n",
       "    </tr>\n",
       "    <tr>\n",
       "      <th>2</th>\n",
       "      <td>RAMANAGARA</td>\n",
       "      <td>0.024465</td>\n",
       "      <td>RGA</td>\n",
       "      <td>-0.465887</td>\n",
       "    </tr>\n",
       "    <tr>\n",
       "      <th>3</th>\n",
       "      <td>CHITRADURGA</td>\n",
       "      <td>0.009103</td>\n",
       "      <td>CDA</td>\n",
       "      <td>0.440749</td>\n",
       "    </tr>\n",
       "    <tr>\n",
       "      <th>4</th>\n",
       "      <td>DAVANAGERE</td>\n",
       "      <td>0.994237</td>\n",
       "      <td>DVG</td>\n",
       "      <td>7.678440</td>\n",
       "    </tr>\n",
       "    <tr>\n",
       "      <th>5</th>\n",
       "      <td>KOLAR</td>\n",
       "      <td>0.001583</td>\n",
       "      <td>KLR</td>\n",
       "      <td>0.640629</td>\n",
       "    </tr>\n",
       "    <tr>\n",
       "      <th>6</th>\n",
       "      <td>CHIKKABALLAPURA</td>\n",
       "      <td>0.005308</td>\n",
       "      <td>CKA</td>\n",
       "      <td>-1.549154</td>\n",
       "    </tr>\n",
       "    <tr>\n",
       "      <th>7</th>\n",
       "      <td>SHIVAMOGGA</td>\n",
       "      <td>0.781886</td>\n",
       "      <td>SMG</td>\n",
       "      <td>2.199448</td>\n",
       "    </tr>\n",
       "    <tr>\n",
       "      <th>8</th>\n",
       "      <td>TUMAKURU</td>\n",
       "      <td>0.052731</td>\n",
       "      <td>TKR</td>\n",
       "      <td>5.331626</td>\n",
       "    </tr>\n",
       "    <tr>\n",
       "      <th>9</th>\n",
       "      <td>CHIKKAMAGALURU</td>\n",
       "      <td>0.224371</td>\n",
       "      <td>CMG</td>\n",
       "      <td>-8.305952</td>\n",
       "    </tr>\n",
       "    <tr>\n",
       "      <th>10</th>\n",
       "      <td>DAKSHINA KANNADA</td>\n",
       "      <td>0.269174</td>\n",
       "      <td>DKA</td>\n",
       "      <td>5.983446</td>\n",
       "    </tr>\n",
       "    <tr>\n",
       "      <th>11</th>\n",
       "      <td>UDUPI</td>\n",
       "      <td>0.280486</td>\n",
       "      <td>UPI</td>\n",
       "      <td>0.920170</td>\n",
       "    </tr>\n",
       "    <tr>\n",
       "      <th>12</th>\n",
       "      <td>HASSAN</td>\n",
       "      <td>0.291758</td>\n",
       "      <td>HSN</td>\n",
       "      <td>-1.956164</td>\n",
       "    </tr>\n",
       "    <tr>\n",
       "      <th>13</th>\n",
       "      <td>KODAGU</td>\n",
       "      <td>0.175148</td>\n",
       "      <td>KDG</td>\n",
       "      <td>-3.809245</td>\n",
       "    </tr>\n",
       "    <tr>\n",
       "      <th>14</th>\n",
       "      <td>MANDYA</td>\n",
       "      <td>0.500669</td>\n",
       "      <td>MDY</td>\n",
       "      <td>-0.860072</td>\n",
       "    </tr>\n",
       "    <tr>\n",
       "      <th>15</th>\n",
       "      <td>MYSURU</td>\n",
       "      <td>0.719425</td>\n",
       "      <td>MYS</td>\n",
       "      <td>4.482615</td>\n",
       "    </tr>\n",
       "    <tr>\n",
       "      <th>16</th>\n",
       "      <td>CHAMARAJANAGAR</td>\n",
       "      <td>0.092982</td>\n",
       "      <td>CNR</td>\n",
       "      <td>-2.523258</td>\n",
       "    </tr>\n",
       "    <tr>\n",
       "      <th>17</th>\n",
       "      <td>BELAGAVI</td>\n",
       "      <td>0.360517</td>\n",
       "      <td>BLG</td>\n",
       "      <td>7.864879</td>\n",
       "    </tr>\n",
       "    <tr>\n",
       "      <th>18</th>\n",
       "      <td>VIJAYAPURA</td>\n",
       "      <td>0.000173</td>\n",
       "      <td>VJP</td>\n",
       "      <td>-6.295132</td>\n",
       "    </tr>\n",
       "    <tr>\n",
       "      <th>19</th>\n",
       "      <td>BAGALKOT</td>\n",
       "      <td>0.000000</td>\n",
       "      <td>BKT</td>\n",
       "      <td>-7.032920</td>\n",
       "    </tr>\n",
       "    <tr>\n",
       "      <th>20</th>\n",
       "      <td>DHARAWAD</td>\n",
       "      <td>0.068875</td>\n",
       "      <td>DWD</td>\n",
       "      <td>-2.019028</td>\n",
       "    </tr>\n",
       "    <tr>\n",
       "      <th>21</th>\n",
       "      <td>GADAG</td>\n",
       "      <td>0.014572</td>\n",
       "      <td>GDG</td>\n",
       "      <td>3.177624</td>\n",
       "    </tr>\n",
       "    <tr>\n",
       "      <th>22</th>\n",
       "      <td>HAVERI</td>\n",
       "      <td>0.254617</td>\n",
       "      <td>HVR</td>\n",
       "      <td>-1.149985</td>\n",
       "    </tr>\n",
       "    <tr>\n",
       "      <th>23</th>\n",
       "      <td>UTTARA KANNADA</td>\n",
       "      <td>0.310602</td>\n",
       "      <td>UTK</td>\n",
       "      <td>-3.432270</td>\n",
       "    </tr>\n",
       "    <tr>\n",
       "      <th>24</th>\n",
       "      <td>BALLARI</td>\n",
       "      <td>0.418544</td>\n",
       "      <td>BLL</td>\n",
       "      <td>-8.395590</td>\n",
       "    </tr>\n",
       "    <tr>\n",
       "      <th>25</th>\n",
       "      <td>BIDAR</td>\n",
       "      <td>0.003963</td>\n",
       "      <td>BDR</td>\n",
       "      <td>-1.130288</td>\n",
       "    </tr>\n",
       "    <tr>\n",
       "      <th>26</th>\n",
       "      <td>KALABURAGI</td>\n",
       "      <td>0.015851</td>\n",
       "      <td>KLB</td>\n",
       "      <td>3.678026</td>\n",
       "    </tr>\n",
       "    <tr>\n",
       "      <th>27</th>\n",
       "      <td>YADGIRI</td>\n",
       "      <td>0.456213</td>\n",
       "      <td>YDR</td>\n",
       "      <td>-2.147617</td>\n",
       "    </tr>\n",
       "    <tr>\n",
       "      <th>28</th>\n",
       "      <td>RAICHUR</td>\n",
       "      <td>1.000000</td>\n",
       "      <td>RCR</td>\n",
       "      <td>9.751745</td>\n",
       "    </tr>\n",
       "    <tr>\n",
       "      <th>29</th>\n",
       "      <td>KOPPAL</td>\n",
       "      <td>0.494498</td>\n",
       "      <td>KPL</td>\n",
       "      <td>1.400949</td>\n",
       "    </tr>\n",
       "  </tbody>\n",
       "</table>\n",
       "</div>"
      ],
      "text/plain": [
       "            District  Normalized_Rice_Production Abbreviation  Bonacich\n",
       "0          BENGALURU                    0.006686          BLR  0.521174\n",
       "1       BENGALURU(R)                    0.004609       BLR(R) -1.307537\n",
       "2         RAMANAGARA                    0.024465          RGA -0.465887\n",
       "3        CHITRADURGA                    0.009103          CDA  0.440749\n",
       "4         DAVANAGERE                    0.994237          DVG  7.678440\n",
       "5              KOLAR                    0.001583          KLR  0.640629\n",
       "6    CHIKKABALLAPURA                    0.005308          CKA -1.549154\n",
       "7         SHIVAMOGGA                    0.781886          SMG  2.199448\n",
       "8           TUMAKURU                    0.052731          TKR  5.331626\n",
       "9     CHIKKAMAGALURU                    0.224371          CMG -8.305952\n",
       "10  DAKSHINA KANNADA                    0.269174          DKA  5.983446\n",
       "11             UDUPI                    0.280486          UPI  0.920170\n",
       "12            HASSAN                    0.291758          HSN -1.956164\n",
       "13            KODAGU                    0.175148          KDG -3.809245\n",
       "14            MANDYA                    0.500669          MDY -0.860072\n",
       "15            MYSURU                    0.719425          MYS  4.482615\n",
       "16    CHAMARAJANAGAR                    0.092982          CNR -2.523258\n",
       "17          BELAGAVI                    0.360517          BLG  7.864879\n",
       "18        VIJAYAPURA                    0.000173          VJP -6.295132\n",
       "19          BAGALKOT                    0.000000          BKT -7.032920\n",
       "20          DHARAWAD                    0.068875          DWD -2.019028\n",
       "21             GADAG                    0.014572          GDG  3.177624\n",
       "22            HAVERI                    0.254617          HVR -1.149985\n",
       "23    UTTARA KANNADA                    0.310602          UTK -3.432270\n",
       "24           BALLARI                    0.418544          BLL -8.395590\n",
       "25             BIDAR                    0.003963          BDR -1.130288\n",
       "26        KALABURAGI                    0.015851          KLB  3.678026\n",
       "27           YADGIRI                    0.456213          YDR -2.147617\n",
       "28           RAICHUR                    1.000000          RCR  9.751745\n",
       "29            KOPPAL                    0.494498          KPL  1.400949"
      ]
     },
     "execution_count": 12,
     "metadata": {},
     "output_type": "execute_result"
    }
   ],
   "source": [
    "abbreviation_mapping = {\n",
    "    'BENGALURU': 'BLR',\n",
    "    'BENGALURU(R)': 'BLR(R)',\n",
    "    'RAMANAGARA': 'RGA',\n",
    "    'CHITRADURGA': 'CDA',\n",
    "    'DAVANAGERE': 'DVG',\n",
    "    'KOLAR': 'KLR',\n",
    "    'CHIKKABALLAPURA': 'CKA',\n",
    "    'SHIVAMOGGA': 'SMG',\n",
    "    'TUMAKURU': 'TKR',\n",
    "    'CHIKKAMAGALURU': 'CMG',\n",
    "    'DAKSHINA KANNADA': 'DKA',\n",
    "    'UDUPI': 'UPI',\n",
    "    'HASSAN': 'HSN',\n",
    "    'KODAGU': 'KDG',\n",
    "    'MANDYA': 'MDY',\n",
    "    'MYSURU': 'MYS',\n",
    "    'CHAMARAJANAGAR': 'CNR',\n",
    "    'BELAGAVI': 'BLG',\n",
    "    'VIJAYAPURA': 'VJP',\n",
    "    'BAGALKOT': 'BKT',\n",
    "    'DHARAWAD': 'DWD',\n",
    "    'GADAG': 'GDG',\n",
    "    'HAVERI': 'HVR',\n",
    "    'UTTARA KANNADA': 'UTK',\n",
    "    'BALLARI': 'BLL',\n",
    "    'BIDAR': 'BDR',\n",
    "    'KALABURAGI': 'KLB',\n",
    "    'YADGIRI': 'YDR',\n",
    "    'RAICHUR': 'RCR',\n",
    "    'KOPPAL': 'KPL',\n",
    "    'Vijayanagara': 'VNG',\n",
    "}\n",
    "\n",
    "Capabilty['Abbreviation'] = Capabilty['District'].map(abbreviation_mapping)\n",
    "Capabilty"
   ]
  },
  {
   "cell_type": "code",
   "execution_count": null,
   "metadata": {},
   "outputs": [],
   "source": []
  },
  {
   "cell_type": "code",
   "execution_count": 76,
   "metadata": {},
   "outputs": [
    {
     "data": {
      "text/html": [
       "<div>\n",
       "<style scoped>\n",
       "    .dataframe tbody tr th:only-of-type {\n",
       "        vertical-align: middle;\n",
       "    }\n",
       "\n",
       "    .dataframe tbody tr th {\n",
       "        vertical-align: top;\n",
       "    }\n",
       "\n",
       "    .dataframe thead th {\n",
       "        text-align: right;\n",
       "    }\n",
       "</style>\n",
       "<table border=\"1\" class=\"dataframe\">\n",
       "  <thead>\n",
       "    <tr style=\"text-align: right;\">\n",
       "      <th></th>\n",
       "      <th>District</th>\n",
       "      <th>Normalized_Rice_Production</th>\n",
       "      <th>Bonacich</th>\n",
       "    </tr>\n",
       "  </thead>\n",
       "  <tbody>\n",
       "    <tr>\n",
       "      <th>24</th>\n",
       "      <td>BALLARI</td>\n",
       "      <td>0.418544</td>\n",
       "      <td>-8.395590</td>\n",
       "    </tr>\n",
       "    <tr>\n",
       "      <th>9</th>\n",
       "      <td>CHIKKAMAGALURU</td>\n",
       "      <td>0.224371</td>\n",
       "      <td>-8.305952</td>\n",
       "    </tr>\n",
       "    <tr>\n",
       "      <th>19</th>\n",
       "      <td>BAGALKOT</td>\n",
       "      <td>0.000000</td>\n",
       "      <td>-7.032920</td>\n",
       "    </tr>\n",
       "    <tr>\n",
       "      <th>18</th>\n",
       "      <td>VIJAYAPURA</td>\n",
       "      <td>0.000173</td>\n",
       "      <td>-6.295132</td>\n",
       "    </tr>\n",
       "    <tr>\n",
       "      <th>13</th>\n",
       "      <td>KODAGU</td>\n",
       "      <td>0.175148</td>\n",
       "      <td>-3.809245</td>\n",
       "    </tr>\n",
       "    <tr>\n",
       "      <th>23</th>\n",
       "      <td>UTTARA KANNADA</td>\n",
       "      <td>0.310602</td>\n",
       "      <td>-3.432270</td>\n",
       "    </tr>\n",
       "    <tr>\n",
       "      <th>16</th>\n",
       "      <td>CHAMARAJANAGAR</td>\n",
       "      <td>0.092982</td>\n",
       "      <td>-2.523258</td>\n",
       "    </tr>\n",
       "    <tr>\n",
       "      <th>27</th>\n",
       "      <td>YADGIRI</td>\n",
       "      <td>0.456213</td>\n",
       "      <td>-2.147617</td>\n",
       "    </tr>\n",
       "    <tr>\n",
       "      <th>20</th>\n",
       "      <td>DHARAWAD</td>\n",
       "      <td>0.068875</td>\n",
       "      <td>-2.019028</td>\n",
       "    </tr>\n",
       "    <tr>\n",
       "      <th>12</th>\n",
       "      <td>HASSAN</td>\n",
       "      <td>0.291758</td>\n",
       "      <td>-1.956164</td>\n",
       "    </tr>\n",
       "    <tr>\n",
       "      <th>6</th>\n",
       "      <td>CHIKKABALLAPURA</td>\n",
       "      <td>0.005308</td>\n",
       "      <td>-1.549154</td>\n",
       "    </tr>\n",
       "    <tr>\n",
       "      <th>1</th>\n",
       "      <td>BENGALURU(R)</td>\n",
       "      <td>0.004609</td>\n",
       "      <td>-1.307537</td>\n",
       "    </tr>\n",
       "    <tr>\n",
       "      <th>22</th>\n",
       "      <td>HAVERI</td>\n",
       "      <td>0.254617</td>\n",
       "      <td>-1.149985</td>\n",
       "    </tr>\n",
       "    <tr>\n",
       "      <th>25</th>\n",
       "      <td>BIDAR</td>\n",
       "      <td>0.003963</td>\n",
       "      <td>-1.130288</td>\n",
       "    </tr>\n",
       "    <tr>\n",
       "      <th>14</th>\n",
       "      <td>MANDYA</td>\n",
       "      <td>0.500669</td>\n",
       "      <td>-0.860072</td>\n",
       "    </tr>\n",
       "    <tr>\n",
       "      <th>2</th>\n",
       "      <td>RAMANAGARA</td>\n",
       "      <td>0.024465</td>\n",
       "      <td>-0.465887</td>\n",
       "    </tr>\n",
       "    <tr>\n",
       "      <th>3</th>\n",
       "      <td>CHITRADURGA</td>\n",
       "      <td>0.009103</td>\n",
       "      <td>0.440749</td>\n",
       "    </tr>\n",
       "    <tr>\n",
       "      <th>0</th>\n",
       "      <td>BENGALURU</td>\n",
       "      <td>0.006686</td>\n",
       "      <td>0.521174</td>\n",
       "    </tr>\n",
       "    <tr>\n",
       "      <th>5</th>\n",
       "      <td>KOLAR</td>\n",
       "      <td>0.001583</td>\n",
       "      <td>0.640629</td>\n",
       "    </tr>\n",
       "    <tr>\n",
       "      <th>11</th>\n",
       "      <td>UDUPI</td>\n",
       "      <td>0.280486</td>\n",
       "      <td>0.920170</td>\n",
       "    </tr>\n",
       "    <tr>\n",
       "      <th>29</th>\n",
       "      <td>KOPPAL</td>\n",
       "      <td>0.494498</td>\n",
       "      <td>1.400949</td>\n",
       "    </tr>\n",
       "    <tr>\n",
       "      <th>7</th>\n",
       "      <td>SHIVAMOGGA</td>\n",
       "      <td>0.781886</td>\n",
       "      <td>2.199448</td>\n",
       "    </tr>\n",
       "    <tr>\n",
       "      <th>21</th>\n",
       "      <td>GADAG</td>\n",
       "      <td>0.014572</td>\n",
       "      <td>3.177624</td>\n",
       "    </tr>\n",
       "    <tr>\n",
       "      <th>26</th>\n",
       "      <td>KALABURAGI</td>\n",
       "      <td>0.015851</td>\n",
       "      <td>3.678026</td>\n",
       "    </tr>\n",
       "    <tr>\n",
       "      <th>15</th>\n",
       "      <td>MYSURU</td>\n",
       "      <td>0.719425</td>\n",
       "      <td>4.482615</td>\n",
       "    </tr>\n",
       "    <tr>\n",
       "      <th>8</th>\n",
       "      <td>TUMAKURU</td>\n",
       "      <td>0.052731</td>\n",
       "      <td>5.331626</td>\n",
       "    </tr>\n",
       "    <tr>\n",
       "      <th>10</th>\n",
       "      <td>DAKSHINA KANNADA</td>\n",
       "      <td>0.269174</td>\n",
       "      <td>5.983446</td>\n",
       "    </tr>\n",
       "    <tr>\n",
       "      <th>4</th>\n",
       "      <td>DAVANAGERE</td>\n",
       "      <td>0.994237</td>\n",
       "      <td>7.678440</td>\n",
       "    </tr>\n",
       "    <tr>\n",
       "      <th>17</th>\n",
       "      <td>BELAGAVI</td>\n",
       "      <td>0.360517</td>\n",
       "      <td>7.864879</td>\n",
       "    </tr>\n",
       "    <tr>\n",
       "      <th>28</th>\n",
       "      <td>RAICHUR</td>\n",
       "      <td>1.000000</td>\n",
       "      <td>9.751745</td>\n",
       "    </tr>\n",
       "  </tbody>\n",
       "</table>\n",
       "</div>"
      ],
      "text/plain": [
       "            District  Normalized_Rice_Production  Bonacich\n",
       "24           BALLARI                    0.418544 -8.395590\n",
       "9     CHIKKAMAGALURU                    0.224371 -8.305952\n",
       "19          BAGALKOT                    0.000000 -7.032920\n",
       "18        VIJAYAPURA                    0.000173 -6.295132\n",
       "13            KODAGU                    0.175148 -3.809245\n",
       "23    UTTARA KANNADA                    0.310602 -3.432270\n",
       "16    CHAMARAJANAGAR                    0.092982 -2.523258\n",
       "27           YADGIRI                    0.456213 -2.147617\n",
       "20          DHARAWAD                    0.068875 -2.019028\n",
       "12            HASSAN                    0.291758 -1.956164\n",
       "6    CHIKKABALLAPURA                    0.005308 -1.549154\n",
       "1       BENGALURU(R)                    0.004609 -1.307537\n",
       "22            HAVERI                    0.254617 -1.149985\n",
       "25             BIDAR                    0.003963 -1.130288\n",
       "14            MANDYA                    0.500669 -0.860072\n",
       "2         RAMANAGARA                    0.024465 -0.465887\n",
       "3        CHITRADURGA                    0.009103  0.440749\n",
       "0          BENGALURU                    0.006686  0.521174\n",
       "5              KOLAR                    0.001583  0.640629\n",
       "11             UDUPI                    0.280486  0.920170\n",
       "29            KOPPAL                    0.494498  1.400949\n",
       "7         SHIVAMOGGA                    0.781886  2.199448\n",
       "21             GADAG                    0.014572  3.177624\n",
       "26        KALABURAGI                    0.015851  3.678026\n",
       "15            MYSURU                    0.719425  4.482615\n",
       "8           TUMAKURU                    0.052731  5.331626\n",
       "10  DAKSHINA KANNADA                    0.269174  5.983446\n",
       "4         DAVANAGERE                    0.994237  7.678440\n",
       "17          BELAGAVI                    0.360517  7.864879\n",
       "28           RAICHUR                    1.000000  9.751745"
      ]
     },
     "execution_count": 76,
     "metadata": {},
     "output_type": "execute_result"
    }
   ],
   "source": [
    "sorted_df = Capabilty.sort_values(by='Bonacich')\n",
    "sorted_df"
   ]
  },
  {
   "cell_type": "code",
   "execution_count": 71,
   "metadata": {},
   "outputs": [
    {
     "name": "stdout",
     "output_type": "stream",
     "text": [
      "Optimized Sociability Scores: [0.99999942 0.99999996 1.00000023 1.00000002 1.00000021 0.99999972\n",
      " 0.99999976 0.99999988 0.99999996 0.99999999 0.99999995 0.99999985\n",
      " 0.99999965 1.00000011 1.00000008 0.99999997 1.00000011 0.99999988\n",
      " 1.00000002 1.00000013 0.99999995 0.99999992 1.00000001 1.00000019\n",
      " 0.99999997 0.99999968 1.00000012 0.99999986 0.99999991 0.99999993]\n"
     ]
    }
   ],
   "source": [
    "from scipy.optimize import minimize\n",
    "\n",
    "def sociability_measure(s, adjacency_matrix):\n",
    "    num_nodes = adjacency_matrix.shape[0]\n",
    "    measure = 0\n",
    "    \n",
    "    for i in range(num_nodes):\n",
    "        for j in range(num_nodes):\n",
    "            if adjacency_matrix[i, j] != 0:\n",
    "                measure += (s[i] * s[j] - adjacency_matrix[i, j]) ** 2\n",
    "                \n",
    "    return measure\n",
    "\n",
    "def optimize_sociability(adjacency_matrix, initial_sociability):\n",
    "    result = minimize(sociability_measure, initial_sociability, args=(adjacency_matrix,), method='BFGS')\n",
    "    \n",
    "    if result.success:\n",
    "        optimized_sociability = result.x\n",
    "        return optimized_sociability\n",
    "    else:\n",
    "        raise ValueError(\"Optimization failed\")\n",
    "\n",
    "# Example usage\n",
    "\n",
    "\n",
    "df['District_Neighbors'] = df['District_Neighbors'].astype(str)\n",
    "\n",
    "num_districts = len(df)\n",
    "adjacency_matrix = np.zeros((num_districts, num_districts), dtype=float)\n",
    "\n",
    "# Assuming the capability scores are in a column named 'Capability'\n",
    "capability_scores = Capabilty['Normalized_Rice_Production']\n",
    "\n",
    "for index, row in df.iterrows():\n",
    "    district_code = row['District_Code']\n",
    "    neighbors = row['District_Neighbors']\n",
    "    \n",
    "    if neighbors and neighbors != 'nan':\n",
    "        neighbor_list = list(map(int, neighbors.split(',')))\n",
    "        for neighbor in neighbor_list:\n",
    "            adjacency_matrix[district_code - 1][neighbor - 1] = 1.0  # Assuming acquaintance weight is 1.0 for neighbors\n",
    "\n",
    "# Optimize sociability scores using capability scores as initial values\n",
    "optimized_sociability = optimize_sociability(adjacency_matrix, capability_scores)\n",
    "print(\"Optimized Sociability Scores:\", optimized_sociability)\n",
    "\n",
    "\n"
   ]
  },
  {
   "cell_type": "code",
   "execution_count": 75,
   "metadata": {},
   "outputs": [
    {
     "name": "stdout",
     "output_type": "stream",
     "text": [
      "Minimum value in the list: 1.0000002255739702, at index: 2\n",
      "Second minimum value: 0.9999996548181407, at index: 12\n",
      "Third minimum value: 0.9999996777647797, at index: 25\n"
     ]
    }
   ],
   "source": [
    "opt = list(optimized_sociability)\n",
    "\n",
    "min_value = max(opt)\n",
    "\n",
    "min_index = opt.index(min_value)\n",
    "\n",
    "print(f\"Minimum value in the list: {min_value}, at index: {min_index}\")\n",
    "\n",
    "sorted_list = sorted(opt)\n",
    "\n",
    "# Second minimum value and its index\n",
    "second_min_value = sorted_list[1]\n",
    "second_min_index = opt.index(second_min_value)\n",
    "\n",
    "# Third minimum value and its index\n",
    "third_min_value = sorted_list[2]\n",
    "third_min_index = opt.index(third_min_value)\n",
    "\n",
    "# Print results\n",
    "print(f\"Second minimum value: {second_min_value}, at index: {second_min_index}\")\n",
    "print(f\"Third minimum value: {third_min_value}, at index: {third_min_index}\")"
   ]
  },
  {
   "cell_type": "code",
   "execution_count": null,
   "metadata": {},
   "outputs": [],
   "source": [
    "import numpy as np\n",
    "import networkx as nx\n",
    "\n",
    "def network_vitality(capabilities, adjacency_matrix):\n",
    "    \"\"\"\n",
    "    Calculate network vitality for each node in the network.\n",
    "    \n",
    "    Parameters:\n",
    "    - capabilities (list): List of capabilities for each node.\n",
    "    - adjacency_matrix (2D list or np.array): Adjacency matrix of the network.\n",
    "    \n",
    "    Returns:\n",
    "    - vitality (list): List of vitality measures for each node.\n",
    "    \"\"\"\n",
    "    G = nx.from_numpy_matrix(np.array(adjacency_matrix))\n",
    "    initial_performance = nx.average_shortest_path_length(G)\n",
    "    \n",
    "    vitality = []\n",
    "    for i in range(len(capabilities)):\n",
    "        H = G.copy()\n",
    "        H.remove_node(i)\n",
    "        try:\n",
    "            performance = nx.average_shortest_path_length(H)\n",
    "            vitality.append(initial_performance - performance)\n",
    "        except nx.NetworkXError:\n",
    "            # If graph becomes disconnected, set vitality to initial performance\n",
    "            vitality.append(initial_performance)\n",
    "    \n",
    "    return vitality\n",
    "\n"
   ]
  },
  {
   "cell_type": "code",
   "execution_count": null,
   "metadata": {},
   "outputs": [],
   "source": [
    "def identify_high_stress_nodes(capabilities, adjacency_matrix, vitality):\n",
    "    \"\"\"\n",
    "    Identify high-stress nodes based on the combined metric.\n",
    "    \n",
    "    Parameters:\n",
    "    - capabilities (list): List of capabilities for each node.\n",
    "    - adjacency_matrix (2D list or np.array): Adjacency matrix of the network.\n",
    "    - vitality (list): List of vitality measures for each node.\n",
    "    \n",
    "    Returns:\n",
    "    - stress_scores (list): List of stress scores for each node.\n",
    "    \"\"\"\n",
    "    G = nx.from_numpy_matrix(np.array(adjacency_matrix))\n",
    "    stress_scores = []\n",
    "    \n",
    "    for i, cap in enumerate(capabilities):\n",
    "        neighbors = list(G.neighbors(i))\n",
    "        if not neighbors:\n",
    "            avg_neighbor_cap = 0\n",
    "        else:\n",
    "            avg_neighbor_cap = np.mean([capabilities[j] for j in neighbors])\n",
    "        stress_score = vitality[i] * (cap - avg_neighbor_cap)\n",
    "        stress_scores.append(stress_score)\n",
    "    \n",
    "    return stress_scores\n",
    "\n",
    "# Example usage\n",
    "stress_scores = identify_high_stress_nodes(capabilities, adjacency_matrix, vitality)\n",
    "print(stress_scores)"
   ]
  },
  {
   "cell_type": "code",
   "execution_count": 18,
   "metadata": {},
   "outputs": [],
   "source": [
    "def normalize_list(input_list):\n",
    "    min_val = min(input_list)\n",
    "    max_val = max(input_list)\n",
    "    \n",
    "    normalized_list = [(1 - (x - min_val) / (max_val - min_val)) for x in input_list]\n",
    "    return normalized_list"
   ]
  },
  {
   "cell_type": "code",
   "execution_count": 20,
   "metadata": {},
   "outputs": [
    {
     "data": {
      "application/vnd.plotly.v1+json": {
       "config": {
        "plotlyServerURL": "https://plot.ly"
       },
       "data": [
        {
         "line": {
          "color": "blue"
         },
         "mode": "lines+markers",
         "name": "Normalized Rice Production",
         "type": "scatter",
         "x": [
          "BLR",
          "BLR(R)",
          "RGA",
          "CDA",
          "DVG",
          "KLR",
          "CKA",
          "SMG",
          "TKR",
          "CMG",
          "DKA",
          "UPI",
          "HSN",
          "KDG",
          "MDY",
          "MYS",
          "CNR",
          "BLG",
          "VJP",
          "BKT",
          "DWD",
          "GDG",
          "HVR",
          "UTK",
          "BLL",
          "BDR",
          "KLB",
          "YDR",
          "RCR",
          "KPL"
         ],
         "y": [
          0.0066855321508886,
          0.0046093808721866,
          0.0244648628663482,
          0.009102968571295,
          0.994236750315384,
          0.0015825066987366,
          0.00530820282901,
          0.7818862911040371,
          0.052730585852512,
          0.2243706031605442,
          0.2691744353051353,
          0.2804856000016252,
          0.2917581669737556,
          0.1751483473063867,
          0.5006693657987595,
          0.7194250157945951,
          0.0929819179818672,
          0.3605169657313151,
          0.000172674030029,
          0,
          0.0688745919306378,
          0.0145716566752732,
          0.2546169988440997,
          0.3106019822978647,
          0.4185435656577763,
          0.0039633768539604,
          0.0158514759566649,
          0.4562129131734033,
          1,
          0.4944977928196044
         ]
        },
        {
         "line": {
          "color": "red"
         },
         "mode": "lines+markers",
         "name": "Bonacich",
         "type": "scatter",
         "x": [
          "BLR",
          "BLR(R)",
          "RGA",
          "CDA",
          "DVG",
          "KLR",
          "CKA",
          "SMG",
          "TKR",
          "CMG",
          "DKA",
          "UPI",
          "HSN",
          "KDG",
          "MDY",
          "MYS",
          "CNR",
          "BLG",
          "VJP",
          "BKT",
          "DWD",
          "GDG",
          "HVR",
          "UTK",
          "BLL",
          "BDR",
          "KLB",
          "YDR",
          "RCR",
          "KPL"
         ],
         "y": [
          0.5086460680354108,
          0.6094163282892393,
          0.5630375787198691,
          0.5130778755440109,
          0.11424845386901394,
          0.5020635975595804,
          0.622730507746369,
          0.4161656440815591,
          0.24356850755758364,
          0.9950605077552921,
          0.207650261540413,
          0.4866596201698481,
          0.6451585753479265,
          0.747271724208717,
          0.5847589561953183,
          0.29035282883963287,
          0.6764080394435489,
          0.10397485735828627,
          0.8842552649468646,
          0.9249107139110144,
          0.6486226518586289,
          0.36226372684152497,
          0.6007344910352552,
          0.726498688407329,
          1,
          0.5996490869662577,
          0.33468929739284303,
          0.6557084951346552,
          0,
          0.46016649481832206
         ]
        }
       ],
       "layout": {
        "template": {
         "data": {
          "bar": [
           {
            "error_x": {
             "color": "#2a3f5f"
            },
            "error_y": {
             "color": "#2a3f5f"
            },
            "marker": {
             "line": {
              "color": "#E5ECF6",
              "width": 0.5
             },
             "pattern": {
              "fillmode": "overlay",
              "size": 10,
              "solidity": 0.2
             }
            },
            "type": "bar"
           }
          ],
          "barpolar": [
           {
            "marker": {
             "line": {
              "color": "#E5ECF6",
              "width": 0.5
             },
             "pattern": {
              "fillmode": "overlay",
              "size": 10,
              "solidity": 0.2
             }
            },
            "type": "barpolar"
           }
          ],
          "carpet": [
           {
            "aaxis": {
             "endlinecolor": "#2a3f5f",
             "gridcolor": "white",
             "linecolor": "white",
             "minorgridcolor": "white",
             "startlinecolor": "#2a3f5f"
            },
            "baxis": {
             "endlinecolor": "#2a3f5f",
             "gridcolor": "white",
             "linecolor": "white",
             "minorgridcolor": "white",
             "startlinecolor": "#2a3f5f"
            },
            "type": "carpet"
           }
          ],
          "choropleth": [
           {
            "colorbar": {
             "outlinewidth": 0,
             "ticks": ""
            },
            "type": "choropleth"
           }
          ],
          "contour": [
           {
            "colorbar": {
             "outlinewidth": 0,
             "ticks": ""
            },
            "colorscale": [
             [
              0,
              "#0d0887"
             ],
             [
              0.1111111111111111,
              "#46039f"
             ],
             [
              0.2222222222222222,
              "#7201a8"
             ],
             [
              0.3333333333333333,
              "#9c179e"
             ],
             [
              0.4444444444444444,
              "#bd3786"
             ],
             [
              0.5555555555555556,
              "#d8576b"
             ],
             [
              0.6666666666666666,
              "#ed7953"
             ],
             [
              0.7777777777777778,
              "#fb9f3a"
             ],
             [
              0.8888888888888888,
              "#fdca26"
             ],
             [
              1,
              "#f0f921"
             ]
            ],
            "type": "contour"
           }
          ],
          "contourcarpet": [
           {
            "colorbar": {
             "outlinewidth": 0,
             "ticks": ""
            },
            "type": "contourcarpet"
           }
          ],
          "heatmap": [
           {
            "colorbar": {
             "outlinewidth": 0,
             "ticks": ""
            },
            "colorscale": [
             [
              0,
              "#0d0887"
             ],
             [
              0.1111111111111111,
              "#46039f"
             ],
             [
              0.2222222222222222,
              "#7201a8"
             ],
             [
              0.3333333333333333,
              "#9c179e"
             ],
             [
              0.4444444444444444,
              "#bd3786"
             ],
             [
              0.5555555555555556,
              "#d8576b"
             ],
             [
              0.6666666666666666,
              "#ed7953"
             ],
             [
              0.7777777777777778,
              "#fb9f3a"
             ],
             [
              0.8888888888888888,
              "#fdca26"
             ],
             [
              1,
              "#f0f921"
             ]
            ],
            "type": "heatmap"
           }
          ],
          "heatmapgl": [
           {
            "colorbar": {
             "outlinewidth": 0,
             "ticks": ""
            },
            "colorscale": [
             [
              0,
              "#0d0887"
             ],
             [
              0.1111111111111111,
              "#46039f"
             ],
             [
              0.2222222222222222,
              "#7201a8"
             ],
             [
              0.3333333333333333,
              "#9c179e"
             ],
             [
              0.4444444444444444,
              "#bd3786"
             ],
             [
              0.5555555555555556,
              "#d8576b"
             ],
             [
              0.6666666666666666,
              "#ed7953"
             ],
             [
              0.7777777777777778,
              "#fb9f3a"
             ],
             [
              0.8888888888888888,
              "#fdca26"
             ],
             [
              1,
              "#f0f921"
             ]
            ],
            "type": "heatmapgl"
           }
          ],
          "histogram": [
           {
            "marker": {
             "pattern": {
              "fillmode": "overlay",
              "size": 10,
              "solidity": 0.2
             }
            },
            "type": "histogram"
           }
          ],
          "histogram2d": [
           {
            "colorbar": {
             "outlinewidth": 0,
             "ticks": ""
            },
            "colorscale": [
             [
              0,
              "#0d0887"
             ],
             [
              0.1111111111111111,
              "#46039f"
             ],
             [
              0.2222222222222222,
              "#7201a8"
             ],
             [
              0.3333333333333333,
              "#9c179e"
             ],
             [
              0.4444444444444444,
              "#bd3786"
             ],
             [
              0.5555555555555556,
              "#d8576b"
             ],
             [
              0.6666666666666666,
              "#ed7953"
             ],
             [
              0.7777777777777778,
              "#fb9f3a"
             ],
             [
              0.8888888888888888,
              "#fdca26"
             ],
             [
              1,
              "#f0f921"
             ]
            ],
            "type": "histogram2d"
           }
          ],
          "histogram2dcontour": [
           {
            "colorbar": {
             "outlinewidth": 0,
             "ticks": ""
            },
            "colorscale": [
             [
              0,
              "#0d0887"
             ],
             [
              0.1111111111111111,
              "#46039f"
             ],
             [
              0.2222222222222222,
              "#7201a8"
             ],
             [
              0.3333333333333333,
              "#9c179e"
             ],
             [
              0.4444444444444444,
              "#bd3786"
             ],
             [
              0.5555555555555556,
              "#d8576b"
             ],
             [
              0.6666666666666666,
              "#ed7953"
             ],
             [
              0.7777777777777778,
              "#fb9f3a"
             ],
             [
              0.8888888888888888,
              "#fdca26"
             ],
             [
              1,
              "#f0f921"
             ]
            ],
            "type": "histogram2dcontour"
           }
          ],
          "mesh3d": [
           {
            "colorbar": {
             "outlinewidth": 0,
             "ticks": ""
            },
            "type": "mesh3d"
           }
          ],
          "parcoords": [
           {
            "line": {
             "colorbar": {
              "outlinewidth": 0,
              "ticks": ""
             }
            },
            "type": "parcoords"
           }
          ],
          "pie": [
           {
            "automargin": true,
            "type": "pie"
           }
          ],
          "scatter": [
           {
            "fillpattern": {
             "fillmode": "overlay",
             "size": 10,
             "solidity": 0.2
            },
            "type": "scatter"
           }
          ],
          "scatter3d": [
           {
            "line": {
             "colorbar": {
              "outlinewidth": 0,
              "ticks": ""
             }
            },
            "marker": {
             "colorbar": {
              "outlinewidth": 0,
              "ticks": ""
             }
            },
            "type": "scatter3d"
           }
          ],
          "scattercarpet": [
           {
            "marker": {
             "colorbar": {
              "outlinewidth": 0,
              "ticks": ""
             }
            },
            "type": "scattercarpet"
           }
          ],
          "scattergeo": [
           {
            "marker": {
             "colorbar": {
              "outlinewidth": 0,
              "ticks": ""
             }
            },
            "type": "scattergeo"
           }
          ],
          "scattergl": [
           {
            "marker": {
             "colorbar": {
              "outlinewidth": 0,
              "ticks": ""
             }
            },
            "type": "scattergl"
           }
          ],
          "scattermapbox": [
           {
            "marker": {
             "colorbar": {
              "outlinewidth": 0,
              "ticks": ""
             }
            },
            "type": "scattermapbox"
           }
          ],
          "scatterpolar": [
           {
            "marker": {
             "colorbar": {
              "outlinewidth": 0,
              "ticks": ""
             }
            },
            "type": "scatterpolar"
           }
          ],
          "scatterpolargl": [
           {
            "marker": {
             "colorbar": {
              "outlinewidth": 0,
              "ticks": ""
             }
            },
            "type": "scatterpolargl"
           }
          ],
          "scatterternary": [
           {
            "marker": {
             "colorbar": {
              "outlinewidth": 0,
              "ticks": ""
             }
            },
            "type": "scatterternary"
           }
          ],
          "surface": [
           {
            "colorbar": {
             "outlinewidth": 0,
             "ticks": ""
            },
            "colorscale": [
             [
              0,
              "#0d0887"
             ],
             [
              0.1111111111111111,
              "#46039f"
             ],
             [
              0.2222222222222222,
              "#7201a8"
             ],
             [
              0.3333333333333333,
              "#9c179e"
             ],
             [
              0.4444444444444444,
              "#bd3786"
             ],
             [
              0.5555555555555556,
              "#d8576b"
             ],
             [
              0.6666666666666666,
              "#ed7953"
             ],
             [
              0.7777777777777778,
              "#fb9f3a"
             ],
             [
              0.8888888888888888,
              "#fdca26"
             ],
             [
              1,
              "#f0f921"
             ]
            ],
            "type": "surface"
           }
          ],
          "table": [
           {
            "cells": {
             "fill": {
              "color": "#EBF0F8"
             },
             "line": {
              "color": "white"
             }
            },
            "header": {
             "fill": {
              "color": "#C8D4E3"
             },
             "line": {
              "color": "white"
             }
            },
            "type": "table"
           }
          ]
         },
         "layout": {
          "annotationdefaults": {
           "arrowcolor": "#2a3f5f",
           "arrowhead": 0,
           "arrowwidth": 1
          },
          "autotypenumbers": "strict",
          "coloraxis": {
           "colorbar": {
            "outlinewidth": 0,
            "ticks": ""
           }
          },
          "colorscale": {
           "diverging": [
            [
             0,
             "#8e0152"
            ],
            [
             0.1,
             "#c51b7d"
            ],
            [
             0.2,
             "#de77ae"
            ],
            [
             0.3,
             "#f1b6da"
            ],
            [
             0.4,
             "#fde0ef"
            ],
            [
             0.5,
             "#f7f7f7"
            ],
            [
             0.6,
             "#e6f5d0"
            ],
            [
             0.7,
             "#b8e186"
            ],
            [
             0.8,
             "#7fbc41"
            ],
            [
             0.9,
             "#4d9221"
            ],
            [
             1,
             "#276419"
            ]
           ],
           "sequential": [
            [
             0,
             "#0d0887"
            ],
            [
             0.1111111111111111,
             "#46039f"
            ],
            [
             0.2222222222222222,
             "#7201a8"
            ],
            [
             0.3333333333333333,
             "#9c179e"
            ],
            [
             0.4444444444444444,
             "#bd3786"
            ],
            [
             0.5555555555555556,
             "#d8576b"
            ],
            [
             0.6666666666666666,
             "#ed7953"
            ],
            [
             0.7777777777777778,
             "#fb9f3a"
            ],
            [
             0.8888888888888888,
             "#fdca26"
            ],
            [
             1,
             "#f0f921"
            ]
           ],
           "sequentialminus": [
            [
             0,
             "#0d0887"
            ],
            [
             0.1111111111111111,
             "#46039f"
            ],
            [
             0.2222222222222222,
             "#7201a8"
            ],
            [
             0.3333333333333333,
             "#9c179e"
            ],
            [
             0.4444444444444444,
             "#bd3786"
            ],
            [
             0.5555555555555556,
             "#d8576b"
            ],
            [
             0.6666666666666666,
             "#ed7953"
            ],
            [
             0.7777777777777778,
             "#fb9f3a"
            ],
            [
             0.8888888888888888,
             "#fdca26"
            ],
            [
             1,
             "#f0f921"
            ]
           ]
          },
          "colorway": [
           "#636efa",
           "#EF553B",
           "#00cc96",
           "#ab63fa",
           "#FFA15A",
           "#19d3f3",
           "#FF6692",
           "#B6E880",
           "#FF97FF",
           "#FECB52"
          ],
          "font": {
           "color": "#2a3f5f"
          },
          "geo": {
           "bgcolor": "white",
           "lakecolor": "white",
           "landcolor": "#E5ECF6",
           "showlakes": true,
           "showland": true,
           "subunitcolor": "white"
          },
          "hoverlabel": {
           "align": "left"
          },
          "hovermode": "closest",
          "mapbox": {
           "style": "light"
          },
          "paper_bgcolor": "white",
          "plot_bgcolor": "#E5ECF6",
          "polar": {
           "angularaxis": {
            "gridcolor": "white",
            "linecolor": "white",
            "ticks": ""
           },
           "bgcolor": "#E5ECF6",
           "radialaxis": {
            "gridcolor": "white",
            "linecolor": "white",
            "ticks": ""
           }
          },
          "scene": {
           "xaxis": {
            "backgroundcolor": "#E5ECF6",
            "gridcolor": "white",
            "gridwidth": 2,
            "linecolor": "white",
            "showbackground": true,
            "ticks": "",
            "zerolinecolor": "white"
           },
           "yaxis": {
            "backgroundcolor": "#E5ECF6",
            "gridcolor": "white",
            "gridwidth": 2,
            "linecolor": "white",
            "showbackground": true,
            "ticks": "",
            "zerolinecolor": "white"
           },
           "zaxis": {
            "backgroundcolor": "#E5ECF6",
            "gridcolor": "white",
            "gridwidth": 2,
            "linecolor": "white",
            "showbackground": true,
            "ticks": "",
            "zerolinecolor": "white"
           }
          },
          "shapedefaults": {
           "line": {
            "color": "#2a3f5f"
           }
          },
          "ternary": {
           "aaxis": {
            "gridcolor": "white",
            "linecolor": "white",
            "ticks": ""
           },
           "baxis": {
            "gridcolor": "white",
            "linecolor": "white",
            "ticks": ""
           },
           "bgcolor": "#E5ECF6",
           "caxis": {
            "gridcolor": "white",
            "linecolor": "white",
            "ticks": ""
           }
          },
          "title": {
           "x": 0.05
          },
          "xaxis": {
           "automargin": true,
           "gridcolor": "white",
           "linecolor": "white",
           "ticks": "",
           "title": {
            "standoff": 15
           },
           "zerolinecolor": "white",
           "zerolinewidth": 2
          },
          "yaxis": {
           "automargin": true,
           "gridcolor": "white",
           "linecolor": "white",
           "ticks": "",
           "title": {
            "standoff": 15
           },
           "zerolinecolor": "white",
           "zerolinewidth": 2
          }
         }
        },
        "title": {
         "text": "Normalized Rice Production and (1 - Bonacich Measure)"
        },
        "xaxis": {
         "title": {
          "text": "Abbreviation"
         }
        },
        "yaxis": {
         "title": {
          "text": "Values"
         }
        }
       }
      }
     },
     "metadata": {},
     "output_type": "display_data"
    }
   ],
   "source": [
    "import plotly.graph_objs as go\n",
    "trace1 = go.Scatter(\n",
    "    x=Capabilty['Abbreviation'],\n",
    "    y=Capabilty['Normalized_Rice_Production'],\n",
    "    mode='lines+markers',\n",
    "    name='Normalized Rice Production',\n",
    "    line=dict(color='blue')\n",
    ")\n",
    "\n",
    "trace2 = go.Scatter(\n",
    "    x=Capabilty['Abbreviation'],\n",
    "    y=normalize_list(Capabilty['Bonacich']),\n",
    "    mode='lines+markers',\n",
    "    name='Bonacich',\n",
    "    line=dict(color='red')\n",
    ")\n",
    "\n",
    "# Create the layout\n",
    "layout = go.Layout(\n",
    "    title='Normalized Rice Production and (1 - Bonacich Measure)',\n",
    "    xaxis=dict(title='Abbreviation'),\n",
    "    yaxis=dict(title='Values'),\n",
    ")\n",
    "\n",
    "# Create the figure\n",
    "fig = go.Figure(data=[trace1, trace2], layout=layout)\n",
    "\n",
    "# Plot the figure\n",
    "fig.show()"
   ]
  }
 ],
 "metadata": {
  "kernelspec": {
   "display_name": "IIITB_SRIP",
   "language": "python",
   "name": "python3"
  },
  "language_info": {
   "codemirror_mode": {
    "name": "ipython",
    "version": 3
   },
   "file_extension": ".py",
   "mimetype": "text/x-python",
   "name": "python",
   "nbconvert_exporter": "python",
   "pygments_lexer": "ipython3",
   "version": "3.11.9"
  }
 },
 "nbformat": 4,
 "nbformat_minor": 2
}
